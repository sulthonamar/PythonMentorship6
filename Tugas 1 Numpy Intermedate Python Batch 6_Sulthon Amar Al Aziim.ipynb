{
 "cells": [
  {
   "cell_type": "code",
   "execution_count": 1,
   "metadata": {},
   "outputs": [],
   "source": [
    "import numpy as np"
   ]
  },
  {
   "cell_type": "markdown",
   "metadata": {},
   "source": [
    "## Latihan 4"
   ]
  },
  {
   "cell_type": "markdown",
   "metadata": {},
   "source": [
    "1. membuat vektor nol / 1D dengan size 10 dan update nilai ke 5 dengan 11"
   ]
  },
  {
   "cell_type": "code",
   "execution_count": 2,
   "metadata": {},
   "outputs": [
    {
     "data": {
      "text/plain": [
       "array([0., 0., 0., 0., 0., 0., 0., 0., 0., 0.])"
      ]
     },
     "execution_count": 2,
     "metadata": {},
     "output_type": "execute_result"
    }
   ],
   "source": [
    "zeros_matrix = np.zeros(10)\n",
    "zeros_matrix"
   ]
  },
  {
   "cell_type": "code",
   "execution_count": 3,
   "metadata": {},
   "outputs": [
    {
     "data": {
      "text/plain": [
       "array([ 0.,  0.,  0.,  0.,  0., 11.,  0.,  0.,  0.,  0.])"
      ]
     },
     "execution_count": 3,
     "metadata": {},
     "output_type": "execute_result"
    }
   ],
   "source": [
    "#mengupdate nilai ke 5 dalam matriks dengan 11\n",
    "zeros_matrix[5] = 11\n",
    "zeros_matrix"
   ]
  },
  {
   "cell_type": "markdown",
   "metadata": {},
   "source": [
    "penjelasan : dibuat vektor nol dengan banyak elemen 10 dan mengupdate nilai ke 5 dengan 11, disini saya memanfaatkan index untuk mengupdate atau mengganti nilai ke 5 menjadi 11"
   ]
  },
  {
   "cell_type": "markdown",
   "metadata": {},
   "source": [
    "2. Tulis sebuah program numpy untuk menciptakan sebuah array berukuran 2x3 dan ubah menjadi array 3x2"
   ]
  },
  {
   "cell_type": "code",
   "execution_count": 4,
   "metadata": {},
   "outputs": [
    {
     "data": {
      "text/plain": [
       "array([[1, 2, 3],\n",
       "       [4, 5, 6]])"
      ]
     },
     "execution_count": 4,
     "metadata": {},
     "output_type": "execute_result"
    }
   ],
   "source": [
    "arr = np.array([[1,2,3],\n",
    "               [4,5,6]])\n",
    "arr"
   ]
  },
  {
   "cell_type": "code",
   "execution_count": 5,
   "metadata": {},
   "outputs": [
    {
     "data": {
      "text/plain": [
       "(2, 3)"
      ]
     },
     "execution_count": 5,
     "metadata": {},
     "output_type": "execute_result"
    }
   ],
   "source": [
    "#cek shape\n",
    "arr.shape"
   ]
  },
  {
   "cell_type": "code",
   "execution_count": 6,
   "metadata": {},
   "outputs": [
    {
     "data": {
      "text/plain": [
       "array([[1, 4],\n",
       "       [2, 5],\n",
       "       [3, 6]])"
      ]
     },
     "execution_count": 6,
     "metadata": {},
     "output_type": "execute_result"
    }
   ],
   "source": [
    "#mengubah menjadi array 3x2\n",
    "arr.T"
   ]
  },
  {
   "cell_type": "code",
   "execution_count": 7,
   "metadata": {},
   "outputs": [
    {
     "data": {
      "text/plain": [
       "(2, 3)"
      ]
     },
     "execution_count": 7,
     "metadata": {},
     "output_type": "execute_result"
    }
   ],
   "source": [
    "arr.shape"
   ]
  },
  {
   "cell_type": "markdown",
   "metadata": {},
   "source": [
    "penjelasan : dibuat matriks berukuran 2x3 yang kemudian akan diubah menjadi matriks berukuran 3x2, disini saya menggunakan fungsi .T untuk mentranspose kan matriks 2x3 tersebut"
   ]
  },
  {
   "cell_type": "markdown",
   "metadata": {},
   "source": [
    "3. Tulis sebuah program numpy untuk membuat sebuah array 2d dengan angka 1 sekelilingnya dan angka 0 didalam "
   ]
  },
  {
   "cell_type": "code",
   "execution_count": 8,
   "metadata": {},
   "outputs": [
    {
     "data": {
      "text/plain": [
       "array([[1., 1., 1.],\n",
       "       [1., 1., 1.],\n",
       "       [1., 1., 1.]])"
      ]
     },
     "execution_count": 8,
     "metadata": {},
     "output_type": "execute_result"
    }
   ],
   "source": [
    "#membuat matriks awal\n",
    "a = np.ones((3,3))\n",
    "a"
   ]
  },
  {
   "cell_type": "code",
   "execution_count": 9,
   "metadata": {},
   "outputs": [
    {
     "data": {
      "text/plain": [
       "array([[1., 1., 1.],\n",
       "       [1., 0., 1.],\n",
       "       [1., 1., 1.]])"
      ]
     },
     "execution_count": 9,
     "metadata": {},
     "output_type": "execute_result"
    }
   ],
   "source": [
    "#memberi angka 0 didalam\n",
    "a[1:-1,1:-1] = 0\n",
    "a"
   ]
  },
  {
   "cell_type": "markdown",
   "metadata": {},
   "source": [
    "penjelasan : disini saya membuat matriks 3x3 sebagai matrik awal, lalu mengubah elemen tengahnya menjadi 0 dengan menggunakan index sehingga menjadi matriks yang diinginkan "
   ]
  },
  {
   "cell_type": "markdown",
   "metadata": {},
   "source": [
    "4. Perhatikan matriks berikut ini. Akses [2,1,1]"
   ]
  },
  {
   "cell_type": "code",
   "execution_count": 10,
   "metadata": {},
   "outputs": [],
   "source": [
    "z = np.array([[[0, 1, 3],\n",
    "               [5, 7, 9],\n",
    "               [6, 8, 10]],\n",
    "              \n",
    "              [[0, 2, 4],\n",
    "               [6, 8, 10],\n",
    "               [0, 1, 3]],\n",
    "             \n",
    "              [[1, 1, 2],\n",
    "               [5, 2, 9],\n",
    "               [1, 3, 3]]])"
   ]
  },
  {
   "cell_type": "code",
   "execution_count": 11,
   "metadata": {},
   "outputs": [
    {
     "data": {
      "text/plain": [
       "2"
      ]
     },
     "execution_count": 11,
     "metadata": {},
     "output_type": "execute_result"
    }
   ],
   "source": [
    "#mengakses [2,1,1]\n",
    "z[2,1,1]"
   ]
  },
  {
   "cell_type": "markdown",
   "metadata": {},
   "source": [
    "penjelasan : mengakses [2,1,1] berarti kita mengambil array dengan index ke 2 baris ke 1 dan kolom 1 oleh karena itu untuk [2,1,1] adalah 2"
   ]
  },
  {
   "cell_type": "markdown",
   "metadata": {},
   "source": [
    "# ASSIGNMENT"
   ]
  },
  {
   "cell_type": "markdown",
   "metadata": {},
   "source": [
    "1. Membuat sebuah matriks berukuran 4x4 dengan nilai dari 0 sampai 3"
   ]
  },
  {
   "cell_type": "code",
   "execution_count": 12,
   "metadata": {},
   "outputs": [],
   "source": [
    "from numpy import random"
   ]
  },
  {
   "cell_type": "code",
   "execution_count": 13,
   "metadata": {},
   "outputs": [
    {
     "data": {
      "text/plain": [
       "array([[2, 2, 1, 2],\n",
       "       [1, 1, 2, 0],\n",
       "       [1, 2, 2, 1],\n",
       "       [2, 1, 2, 2]])"
      ]
     },
     "execution_count": 13,
     "metadata": {},
     "output_type": "execute_result"
    }
   ],
   "source": [
    "x = random.randint(0,3,size=(4,4))\n",
    "x"
   ]
  },
  {
   "cell_type": "markdown",
   "metadata": {},
   "source": [
    "penjelasan : dengan menggunakan random yang ada di numpy dan memanfaatkan fungsi randint saya bisa membuat matriks 4x4 dengan elemen elemennya nilainya dari 0 sampai 3"
   ]
  },
  {
   "cell_type": "markdown",
   "metadata": {},
   "source": [
    "2. membuat sebuah array dengan ukuran 4x4 dan ubah menjadi 2 array"
   ]
  },
  {
   "cell_type": "code",
   "execution_count": 14,
   "metadata": {},
   "outputs": [
    {
     "data": {
      "text/plain": [
       "array([[ 5, 12,  7,  7],\n",
       "       [ 8,  7,  5, 10],\n",
       "       [ 9, 15,  4, 11],\n",
       "       [ 9, 14, 15,  9]])"
      ]
     },
     "execution_count": 14,
     "metadata": {},
     "output_type": "execute_result"
    }
   ],
   "source": [
    "#membuat matriks awal\n",
    "a1 = random.randint(0,16,size=(4,4))\n",
    "a1"
   ]
  },
  {
   "cell_type": "code",
   "execution_count": 17,
   "metadata": {},
   "outputs": [
    {
     "data": {
      "text/plain": [
       "[array([[ 5, 12],\n",
       "        [ 8,  7],\n",
       "        [ 9, 15],\n",
       "        [ 9, 14]]),\n",
       " array([[ 7,  7],\n",
       "        [ 5, 10],\n",
       "        [ 4, 11],\n",
       "        [15,  9]]),\n",
       " array([], shape=(4, 0), dtype=int32)]"
      ]
     },
     "execution_count": 17,
     "metadata": {},
     "output_type": "execute_result"
    }
   ],
   "source": [
    "#memisahkan menjadi 2 array\n",
    "a2 = np.hsplit(a1,(2,6))\n",
    "a2"
   ]
  },
  {
   "cell_type": "markdown",
   "metadata": {},
   "source": [
    "penjelasan : disini saya membuat matriks berukuran 4x4 terlebih dahulu , dan dengan memanfaatkan fungsi hsplit maka saya bisa membuat matriks yang telah saya buat menjadi 2 array "
   ]
  },
  {
   "cell_type": "code",
   "execution_count": null,
   "metadata": {},
   "outputs": [],
   "source": []
  }
 ],
 "metadata": {
  "kernelspec": {
   "display_name": "Python 3",
   "language": "python",
   "name": "python3"
  },
  "language_info": {
   "codemirror_mode": {
    "name": "ipython",
    "version": 3
   },
   "file_extension": ".py",
   "mimetype": "text/x-python",
   "name": "python",
   "nbconvert_exporter": "python",
   "pygments_lexer": "ipython3",
   "version": "3.7.6"
  }
 },
 "nbformat": 4,
 "nbformat_minor": 4
}
